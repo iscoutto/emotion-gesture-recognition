{
  "cells": [
    {
      "cell_type": "markdown",
      "id": "b1f699bf",
      "metadata": {
        "id": "b1f699bf"
      },
      "source": [
        "# Fine-Tuning para Detecção de Emoções com FER2013 usando MobileNetV2"
      ]
    },
    {
      "cell_type": "code",
      "execution_count": 4,
      "id": "6cd948f2",
      "metadata": {
        "id": "6cd948f2"
      },
      "outputs": [],
      "source": [
        "import os\n",
        "import datetime\n",
        "import time\n",
        "import numpy as np\n",
        "import matplotlib.pyplot as plt\n",
        "import tensorflow as tf\n",
        "from tensorflow.keras.preprocessing.image import ImageDataGenerator\n",
        "from tensorflow.keras.applications import MobileNetV2\n",
        "from tensorflow.keras.models import Model\n",
        "from tensorflow.keras.layers import Dense, GlobalAveragePooling2D, Dropout\n",
        "from tensorflow.keras.optimizers import Adam\n",
        "from tensorflow.keras.callbacks import EarlyStopping, TensorBoard"
      ]
    },
    {
      "cell_type": "code",
      "execution_count": 5,
      "id": "uQo27OyRERYt",
      "metadata": {
        "id": "uQo27OyRERYt"
      },
      "outputs": [],
      "source": [
        "# Inicio do treinamento\n",
        "start_time = time.time()"
      ]
    },
    {
      "cell_type": "code",
      "execution_count": 6,
      "id": "LCskPpLJru8J",
      "metadata": {
        "colab": {
          "base_uri": "https://localhost:8080/"
        },
        "id": "LCskPpLJru8J",
        "outputId": "a2bd9762-e68e-483a-8a48-04859190894a"
      },
      "outputs": [
        {
          "name": "stdout",
          "output_type": "stream",
          "text": [
            "Saving images...\n",
            "100% 35887/35887 [01:20<00:00, 448.15it/s]\n",
            "Done!\n"
          ]
        }
      ],
      "source": [
        "!python3 /content/dataset_prepare.py"
      ]
    },
    {
      "cell_type": "code",
      "execution_count": 1,
      "id": "a986fbd5",
      "metadata": {
        "id": "a986fbd5"
      },
      "outputs": [],
      "source": [
        "# Load the TensorBoard notebook extension\n",
        "%load_ext tensorboard"
      ]
    },
    {
      "cell_type": "code",
      "execution_count": 2,
      "id": "fd0f5872",
      "metadata": {
        "id": "fd0f5872"
      },
      "outputs": [],
      "source": [
        "# Clear any logs from previous runs\n",
        "!rm -rf ./logs/"
      ]
    },
    {
      "cell_type": "code",
      "execution_count": 9,
      "id": "bba05e2e",
      "metadata": {
        "id": "bba05e2e"
      },
      "outputs": [],
      "source": [
        "# Configuração do TensorBoard\n",
        "# Diretório de logs\n",
        "log_dir = \"logs/fit/\" + datetime.datetime.now().strftime(\"%Y%m%d-%H%M%S\")\n",
        "tensorboard_callback = TensorBoard(log_dir=log_dir, histogram_freq=1)"
      ]
    },
    {
      "cell_type": "code",
      "execution_count": 10,
      "id": "ff05c1e5",
      "metadata": {
        "colab": {
          "base_uri": "https://localhost:8080/"
        },
        "id": "ff05c1e5",
        "outputId": "d883b009-5159-4b6a-8ee0-61d9ddf102d6"
      },
      "outputs": [
        {
          "name": "stdout",
          "output_type": "stream",
          "text": [
            "GPUs disponíveis: [PhysicalDevice(name='/physical_device:GPU:0', device_type='GPU')]\n"
          ]
        }
      ],
      "source": [
        "gpus = tf.config.list_physical_devices(\"GPU\")\n",
        "print(\"GPUs disponíveis:\", gpus)"
      ]
    },
    {
      "cell_type": "code",
      "execution_count": 11,
      "id": "98f6d889",
      "metadata": {
        "id": "98f6d889"
      },
      "outputs": [],
      "source": [
        "# Caminhos\n",
        "train_dir = './data/train'\n",
        "val_dir = './data/test'"
      ]
    },
    {
      "cell_type": "code",
      "execution_count": 12,
      "id": "23ce1cc2",
      "metadata": {
        "id": "23ce1cc2"
      },
      "outputs": [],
      "source": [
        "# Hiperparâmetros\n",
        "img_size = 96  # MobileNetV2 exige >=96x96\n",
        "batch_size = 64\n",
        "num_epochs = 30\n",
        "num_classes = 7"
      ]
    },
    {
      "cell_type": "code",
      "execution_count": 13,
      "id": "be4bd569",
      "metadata": {
        "id": "be4bd569"
      },
      "outputs": [],
      "source": [
        "# Preprocessamento dos dados\n",
        "train_datagen = ImageDataGenerator(\n",
        "    rescale=1./255,\n",
        "    rotation_range=20,\n",
        "    width_shift_range=0.2,\n",
        "    height_shift_range=0.2,\n",
        "    shear_range=0.1,\n",
        "    zoom_range=0.2,\n",
        "    horizontal_flip=True\n",
        ")"
      ]
    },
    {
      "cell_type": "code",
      "execution_count": 14,
      "id": "469a0e1f",
      "metadata": {
        "id": "469a0e1f"
      },
      "outputs": [],
      "source": [
        "val_datagen = ImageDataGenerator(rescale=1./255)"
      ]
    },
    {
      "cell_type": "code",
      "execution_count": 15,
      "id": "565c311b",
      "metadata": {
        "colab": {
          "base_uri": "https://localhost:8080/"
        },
        "id": "565c311b",
        "outputId": "142cc960-855e-40e7-a74a-850f41b0349d"
      },
      "outputs": [
        {
          "name": "stdout",
          "output_type": "stream",
          "text": [
            "Found 28709 images belonging to 7 classes.\n"
          ]
        }
      ],
      "source": [
        "train_generator = train_datagen.flow_from_directory(\n",
        "    train_dir,\n",
        "    target_size=(img_size, img_size),\n",
        "    batch_size=batch_size,\n",
        "    color_mode='rgb',\n",
        "    class_mode='categorical'\n",
        ")"
      ]
    },
    {
      "cell_type": "code",
      "execution_count": 16,
      "id": "86d92af8",
      "metadata": {
        "colab": {
          "base_uri": "https://localhost:8080/"
        },
        "id": "86d92af8",
        "outputId": "d4aa4780-418b-4f36-8f7e-3c2f772f32ba"
      },
      "outputs": [
        {
          "name": "stdout",
          "output_type": "stream",
          "text": [
            "Classes disponíveis: {'angry': 0, 'disgusted': 1, 'fearful': 2, 'happy': 3, 'neutral': 4, 'sad': 5, 'surprised': 6}\n"
          ]
        }
      ],
      "source": [
        "# Exibição de classes\n",
        "print(\"Classes disponíveis:\", train_generator.class_indices)"
      ]
    },
    {
      "cell_type": "code",
      "execution_count": 17,
      "id": "f60f2855",
      "metadata": {
        "colab": {
          "base_uri": "https://localhost:8080/"
        },
        "id": "f60f2855",
        "outputId": "e661bc70-7235-43b2-f095-46d0a04130f8"
      },
      "outputs": [
        {
          "name": "stdout",
          "output_type": "stream",
          "text": [
            "Found 7178 images belonging to 7 classes.\n"
          ]
        }
      ],
      "source": [
        "val_generator = val_datagen.flow_from_directory(\n",
        "    val_dir,\n",
        "    target_size=(img_size, img_size),\n",
        "    batch_size=batch_size,\n",
        "    color_mode='rgb',\n",
        "    class_mode='categorical'\n",
        ")"
      ]
    },
    {
      "cell_type": "code",
      "execution_count": 18,
      "id": "48124d2a",
      "metadata": {
        "id": "48124d2a"
      },
      "outputs": [],
      "source": [
        "import ssl\n",
        "import certifi\n",
        "try:\n",
        "    ssl._create_default_https_context = ssl.create_default_context(cafile=certifi.where())\n",
        "except Exception as e:\n",
        "    print(\"Certificado SSL não pode ser configurado:\", e)\n"
      ]
    },
    {
      "cell_type": "code",
      "execution_count": 19,
      "id": "a4969bce",
      "metadata": {
        "id": "a4969bce"
      },
      "outputs": [],
      "source": [
        "# Carregando o modelo base\n",
        "base_model = MobileNetV2(\n",
        "    input_shape=(96, 96, 3),\n",
        "    include_top=False,\n",
        "    weights='/mobilenet_v2_weights_tf_dim_ordering_tf_kernels_1.0_96_no_top.h5'\n",
        ")"
      ]
    },
    {
      "cell_type": "code",
      "execution_count": 20,
      "id": "36193080",
      "metadata": {
        "id": "36193080"
      },
      "outputs": [],
      "source": [
        "# Head personalizada\n",
        "x = base_model.output\n",
        "x = GlobalAveragePooling2D()(x)\n",
        "x = Dropout(0.5)(x)\n",
        "output = Dense(num_classes, activation='softmax')(x)\n",
        "model = Model(inputs=base_model.input, outputs=output)"
      ]
    },
    {
      "cell_type": "code",
      "execution_count": 21,
      "id": "08efa9a8",
      "metadata": {
        "id": "08efa9a8"
      },
      "outputs": [],
      "source": [
        "# Compilando\n",
        "model.compile(\n",
        "    optimizer=Adam(learning_rate=1e-4),\n",
        "    loss='categorical_crossentropy',\n",
        "    metrics=['accuracy']\n",
        ")"
      ]
    },
    {
      "cell_type": "code",
      "execution_count": 22,
      "id": "90852cd9",
      "metadata": {
        "colab": {
          "base_uri": "https://localhost:8080/"
        },
        "id": "90852cd9",
        "outputId": "cf865d3f-27ed-4fd5-fbdb-801c1e5cbb5b"
      },
      "outputs": [
        {
          "name": "stderr",
          "output_type": "stream",
          "text": [
            "/usr/local/lib/python3.11/dist-packages/keras/src/trainers/data_adapters/py_dataset_adapter.py:121: UserWarning: Your `PyDataset` class should call `super().__init__(**kwargs)` in its constructor. `**kwargs` can include `workers`, `use_multiprocessing`, `max_queue_size`. Do not pass these arguments to `fit()`, as they will be ignored.\n",
            "  self._warn_if_super_not_called()\n"
          ]
        },
        {
          "name": "stdout",
          "output_type": "stream",
          "text": [
            "Epoch 1/30\n",
            "\u001b[1m449/449\u001b[0m \u001b[32m━━━━━━━━━━━━━━━━━━━━\u001b[0m\u001b[37m\u001b[0m \u001b[1m170s\u001b[0m 270ms/step - accuracy: 0.2845 - loss: 2.0861 - val_accuracy: 0.3550 - val_loss: 2.9924\n",
            "Epoch 2/30\n",
            "\u001b[1m449/449\u001b[0m \u001b[32m━━━━━━━━━━━━━━━━━━━━\u001b[0m\u001b[37m\u001b[0m \u001b[1m95s\u001b[0m 212ms/step - accuracy: 0.4494 - loss: 1.4326 - val_accuracy: 0.4634 - val_loss: 2.0780\n",
            "Epoch 3/30\n",
            "\u001b[1m449/449\u001b[0m \u001b[32m━━━━━━━━━━━━━━━━━━━━\u001b[0m\u001b[37m\u001b[0m \u001b[1m93s\u001b[0m 208ms/step - accuracy: 0.5135 - loss: 1.2741 - val_accuracy: 0.5226 - val_loss: 1.5842\n",
            "Epoch 4/30\n",
            "\u001b[1m449/449\u001b[0m \u001b[32m━━━━━━━━━━━━━━━━━━━━\u001b[0m\u001b[37m\u001b[0m \u001b[1m95s\u001b[0m 211ms/step - accuracy: 0.5498 - loss: 1.1945 - val_accuracy: 0.5347 - val_loss: 1.4784\n",
            "Epoch 5/30\n",
            "\u001b[1m449/449\u001b[0m \u001b[32m━━━━━━━━━━━━━━━━━━━━\u001b[0m\u001b[37m\u001b[0m \u001b[1m93s\u001b[0m 206ms/step - accuracy: 0.5680 - loss: 1.1345 - val_accuracy: 0.5663 - val_loss: 1.2327\n",
            "Epoch 6/30\n",
            "\u001b[1m449/449\u001b[0m \u001b[32m━━━━━━━━━━━━━━━━━━━━\u001b[0m\u001b[37m\u001b[0m \u001b[1m93s\u001b[0m 207ms/step - accuracy: 0.5908 - loss: 1.0836 - val_accuracy: 0.5773 - val_loss: 1.1815\n",
            "Epoch 7/30\n",
            "\u001b[1m449/449\u001b[0m \u001b[32m━━━━━━━━━━━━━━━━━━━━\u001b[0m\u001b[37m\u001b[0m \u001b[1m97s\u001b[0m 215ms/step - accuracy: 0.6012 - loss: 1.0538 - val_accuracy: 0.5883 - val_loss: 1.1295\n",
            "Epoch 8/30\n",
            "\u001b[1m449/449\u001b[0m \u001b[32m━━━━━━━━━━━━━━━━━━━━\u001b[0m\u001b[37m\u001b[0m \u001b[1m97s\u001b[0m 217ms/step - accuracy: 0.6233 - loss: 1.0101 - val_accuracy: 0.5913 - val_loss: 1.1058\n",
            "Epoch 9/30\n",
            "\u001b[1m449/449\u001b[0m \u001b[32m━━━━━━━━━━━━━━━━━━━━\u001b[0m\u001b[37m\u001b[0m \u001b[1m142s\u001b[0m 216ms/step - accuracy: 0.6318 - loss: 0.9863 - val_accuracy: 0.5921 - val_loss: 1.1237\n",
            "Epoch 10/30\n",
            "\u001b[1m449/449\u001b[0m \u001b[32m━━━━━━━━━━━━━━━━━━━━\u001b[0m\u001b[37m\u001b[0m \u001b[1m92s\u001b[0m 206ms/step - accuracy: 0.6389 - loss: 0.9614 - val_accuracy: 0.5936 - val_loss: 1.1134\n",
            "Epoch 11/30\n",
            "\u001b[1m449/449\u001b[0m \u001b[32m━━━━━━━━━━━━━━━━━━━━\u001b[0m\u001b[37m\u001b[0m \u001b[1m93s\u001b[0m 206ms/step - accuracy: 0.6553 - loss: 0.9238 - val_accuracy: 0.6208 - val_loss: 1.0728\n",
            "Epoch 12/30\n",
            "\u001b[1m449/449\u001b[0m \u001b[32m━━━━━━━━━━━━━━━━━━━━\u001b[0m\u001b[37m\u001b[0m \u001b[1m92s\u001b[0m 205ms/step - accuracy: 0.6580 - loss: 0.9130 - val_accuracy: 0.6087 - val_loss: 1.1126\n",
            "Epoch 13/30\n",
            "\u001b[1m449/449\u001b[0m \u001b[32m━━━━━━━━━━━━━━━━━━━━\u001b[0m\u001b[37m\u001b[0m \u001b[1m144s\u001b[0m 210ms/step - accuracy: 0.6694 - loss: 0.8962 - val_accuracy: 0.6190 - val_loss: 1.1011\n",
            "Epoch 14/30\n",
            "\u001b[1m449/449\u001b[0m \u001b[32m━━━━━━━━━━━━━━━━━━━━\u001b[0m\u001b[37m\u001b[0m \u001b[1m92s\u001b[0m 204ms/step - accuracy: 0.6749 - loss: 0.8713 - val_accuracy: 0.6467 - val_loss: 1.0276\n",
            "Epoch 15/30\n",
            "\u001b[1m449/449\u001b[0m \u001b[32m━━━━━━━━━━━━━━━━━━━━\u001b[0m\u001b[37m\u001b[0m \u001b[1m144s\u001b[0m 208ms/step - accuracy: 0.6868 - loss: 0.8402 - val_accuracy: 0.6095 - val_loss: 1.0733\n",
            "Epoch 16/30\n",
            "\u001b[1m449/449\u001b[0m \u001b[32m━━━━━━━━━━━━━━━━━━━━\u001b[0m\u001b[37m\u001b[0m \u001b[1m92s\u001b[0m 206ms/step - accuracy: 0.6905 - loss: 0.8265 - val_accuracy: 0.6321 - val_loss: 1.0184\n",
            "Epoch 17/30\n",
            "\u001b[1m449/449\u001b[0m \u001b[32m━━━━━━━━━━━━━━━━━━━━\u001b[0m\u001b[37m\u001b[0m \u001b[1m93s\u001b[0m 208ms/step - accuracy: 0.7017 - loss: 0.8028 - val_accuracy: 0.6141 - val_loss: 1.1008\n",
            "Epoch 18/30\n",
            "\u001b[1m449/449\u001b[0m \u001b[32m━━━━━━━━━━━━━━━━━━━━\u001b[0m\u001b[37m\u001b[0m \u001b[1m95s\u001b[0m 212ms/step - accuracy: 0.7053 - loss: 0.7884 - val_accuracy: 0.6480 - val_loss: 1.0012\n",
            "Epoch 19/30\n",
            "\u001b[1m449/449\u001b[0m \u001b[32m━━━━━━━━━━━━━━━━━━━━\u001b[0m\u001b[37m\u001b[0m \u001b[1m95s\u001b[0m 211ms/step - accuracy: 0.7123 - loss: 0.7645 - val_accuracy: 0.6280 - val_loss: 1.0802\n",
            "Epoch 20/30\n",
            "\u001b[1m449/449\u001b[0m \u001b[32m━━━━━━━━━━━━━━━━━━━━\u001b[0m\u001b[37m\u001b[0m \u001b[1m93s\u001b[0m 208ms/step - accuracy: 0.7260 - loss: 0.7331 - val_accuracy: 0.6456 - val_loss: 0.9889\n",
            "Epoch 21/30\n",
            "\u001b[1m449/449\u001b[0m \u001b[32m━━━━━━━━━━━━━━━━━━━━\u001b[0m\u001b[37m\u001b[0m \u001b[1m143s\u001b[0m 211ms/step - accuracy: 0.7266 - loss: 0.7308 - val_accuracy: 0.6514 - val_loss: 1.0178\n",
            "Epoch 22/30\n",
            "\u001b[1m449/449\u001b[0m \u001b[32m━━━━━━━━━━━━━━━━━━━━\u001b[0m\u001b[37m\u001b[0m \u001b[1m95s\u001b[0m 211ms/step - accuracy: 0.7373 - loss: 0.7054 - val_accuracy: 0.6255 - val_loss: 1.0668\n",
            "Epoch 23/30\n",
            "\u001b[1m449/449\u001b[0m \u001b[32m━━━━━━━━━━━━━━━━━━━━\u001b[0m\u001b[37m\u001b[0m \u001b[1m93s\u001b[0m 207ms/step - accuracy: 0.7432 - loss: 0.6938 - val_accuracy: 0.6127 - val_loss: 1.1690\n",
            "Epoch 24/30\n",
            "\u001b[1m449/449\u001b[0m \u001b[32m━━━━━━━━━━━━━━━━━━━━\u001b[0m\u001b[37m\u001b[0m \u001b[1m93s\u001b[0m 208ms/step - accuracy: 0.7546 - loss: 0.6675 - val_accuracy: 0.6510 - val_loss: 1.0173\n",
            "Epoch 25/30\n",
            "\u001b[1m449/449\u001b[0m \u001b[32m━━━━━━━━━━━━━━━━━━━━\u001b[0m\u001b[37m\u001b[0m \u001b[1m92s\u001b[0m 206ms/step - accuracy: 0.7608 - loss: 0.6371 - val_accuracy: 0.6489 - val_loss: 1.0587\n"
          ]
        }
      ],
      "source": [
        "# Treinamento inicial com backbone congelado\n",
        "early_stop = EarlyStopping(monitor='val_loss', patience=5, restore_best_weights=True)\n",
        "\n",
        "history = model.fit(\n",
        "    train_generator,\n",
        "    validation_data=val_generator,\n",
        "    epochs=num_epochs,\n",
        "    callbacks=[early_stop, tensorboard_callback]\n",
        ")"
      ]
    },
    {
      "cell_type": "code",
      "execution_count": 23,
      "id": "b53a0743",
      "metadata": {
        "id": "b53a0743"
      },
      "outputs": [],
      "source": [
        "# Salvando o modelo\n",
        "model.save('mobilenetv2_emotion_finetuned_v2.keras')"
      ]
    },
    {
      "cell_type": "code",
      "execution_count": 24,
      "id": "Jaj99slcEZoo",
      "metadata": {
        "id": "Jaj99slcEZoo"
      },
      "outputs": [],
      "source": [
        "# Fim do treinamento\n",
        "end_time = time.time()"
      ]
    },
    {
      "cell_type": "code",
      "execution_count": 25,
      "id": "CItpRMATEeSe",
      "metadata": {
        "id": "CItpRMATEeSe"
      },
      "outputs": [],
      "source": [
        "# Cálculo do tempo total em segundos\n",
        "training_time = end_time - start_time"
      ]
    },
    {
      "cell_type": "code",
      "execution_count": 26,
      "id": "_CtUB4PTPuF2",
      "metadata": {
        "colab": {
          "base_uri": "https://localhost:8080/"
        },
        "id": "_CtUB4PTPuF2",
        "outputId": "ee8acc6b-70f4-4666-d7a7-79ee5aa348a8"
      },
      "outputs": [
        {
          "data": {
            "text/plain": [
              "2882.8298799991608"
            ]
          },
          "execution_count": 26,
          "metadata": {},
          "output_type": "execute_result"
        }
      ],
      "source": [
        "training_time"
      ]
    },
    {
      "cell_type": "code",
      "execution_count": 27,
      "id": "2qXSZ5LZEgl6",
      "metadata": {
        "colab": {
          "base_uri": "https://localhost:8080/"
        },
        "id": "2qXSZ5LZEgl6",
        "outputId": "4241d013-2be0-49f8-87eb-b26c1f9c1810"
      },
      "outputs": [
        {
          "name": "stdout",
          "output_type": "stream",
          "text": [
            "Tempo total de treinamento: 0h 48m 2s\n"
          ]
        }
      ],
      "source": [
        "# Convertendo para horas, minutos e segundos\n",
        "hours = training_time // 3600\n",
        "minutes = (training_time % 3600) // 60\n",
        "seconds = (training_time % 3600) % 60\n",
        "\n",
        "print(f\"Tempo total de treinamento: {int(hours)}h {int(minutes)}m {int(seconds)}s\")"
      ]
    },
    {
      "cell_type": "code",
      "execution_count": 28,
      "id": "39203586",
      "metadata": {
        "colab": {
          "base_uri": "https://localhost:8080/",
          "height": 439
        },
        "id": "39203586",
        "outputId": "e996824d-d763-4744-e01d-e8f74e4e2f0a"
      },
      "outputs": [
        {
          "data": {
            "image/png": "[encoded data removed]",
            "text/plain": [
              "<Figure size 1500x500 with 2 Axes>"
            ]
          },
          "metadata": {},
          "output_type": "display_data"
        }
      ],
      "source": [
        "# Função para plotar histórico\n",
        "def plot_model_history(history):\n",
        "    fig, axs = plt.subplots(1, 2, figsize=(15, 5))\n",
        "    axs[0].plot(history.history['accuracy'], label='Train')\n",
        "    axs[0].plot(history.history['val_accuracy'], label='Validation')\n",
        "    axs[0].set_title('Accuracy')\n",
        "    axs[0].set_xlabel('Epoch')\n",
        "    axs[0].set_ylabel('Accuracy')\n",
        "    axs[0].legend()\n",
        "\n",
        "    axs[1].plot(history.history['loss'], label='Train')\n",
        "    axs[1].plot(history.history['val_loss'], label='Validation')\n",
        "    axs[1].set_title('Loss')\n",
        "    axs[1].set_xlabel('Epoch')\n",
        "    axs[1].set_ylabel('Loss')\n",
        "    axs[1].legend()\n",
        "    plt.tight_layout()\n",
        "    plt.show()\n",
        "\n",
        "plot_model_history(history)"
      ]
    },
    {
      "cell_type": "code",
      "execution_count": 29,
      "id": "ZTIGc7EQQGnA",
      "metadata": {
        "colab": {
          "base_uri": "https://localhost:8080/"
        },
        "id": "ZTIGc7EQQGnA",
        "outputId": "53d7b73a-d6c5-4819-af15-f68cbec058d6"
      },
      "outputs": [
        {
          "name": "stdout",
          "output_type": "stream",
          "text": [
            "Acurácia no conjunto de treinamento: 75.60%\n",
            "Acurácia no conjunto de validação: 64.89%\n"
          ]
        }
      ],
      "source": [
        "# Acurácia final no conjunto de treinamento\n",
        "train_accuracy = history.history['accuracy'][-1]\n",
        "\n",
        "# Acurácia final no conjunto de validação\n",
        "val_accuracy = history.history['val_accuracy'][-1]\n",
        "\n",
        "print(f\"Acurácia no conjunto de treinamento: {train_accuracy * 100:.2f}%\")\n",
        "print(f\"Acurácia no conjunto de validação: {val_accuracy * 100:.2f}%\")\n"
      ]
    },
    {
      "cell_type": "code",
      "execution_count": 30,
      "id": "2VWtZUHtQtgX",
      "metadata": {
        "colab": {
          "base_uri": "https://localhost:8080/"
        },
        "id": "2VWtZUHtQtgX",
        "outputId": "301a0c56-516d-4146-ba2e-04c75f00113a"
      },
      "outputs": [
        {
          "name": "stdout",
          "output_type": "stream",
          "text": [
            "Epoch 1: Treinamento: 34.88%, Validação: 35.50%\n",
            "Epoch 2: Treinamento: 46.74%, Validação: 46.34%\n",
            "Epoch 3: Treinamento: 52.09%, Validação: 52.26%\n",
            "Epoch 4: Treinamento: 55.44%, Validação: 53.47%\n",
            "Epoch 5: Treinamento: 57.42%, Validação: 56.63%\n",
            "Epoch 6: Treinamento: 59.27%, Validação: 57.73%\n",
            "Epoch 7: Treinamento: 60.31%, Validação: 58.83%\n",
            "Epoch 8: Treinamento: 62.33%, Validação: 59.13%\n",
            "Epoch 9: Treinamento: 63.20%, Validação: 59.21%\n",
            "Epoch 10: Treinamento: 64.03%, Validação: 59.36%\n",
            "Epoch 11: Treinamento: 64.97%, Validação: 62.08%\n",
            "Epoch 12: Treinamento: 65.86%, Validação: 60.87%\n",
            "Epoch 13: Treinamento: 66.71%, Validação: 61.90%\n",
            "Epoch 14: Treinamento: 67.50%, Validação: 64.67%\n",
            "Epoch 15: Treinamento: 68.42%, Validação: 60.95%\n",
            "Epoch 16: Treinamento: 68.79%, Validação: 63.21%\n",
            "Epoch 17: Treinamento: 70.21%, Validação: 61.41%\n",
            "Epoch 18: Treinamento: 70.42%, Validação: 64.80%\n",
            "Epoch 19: Treinamento: 71.06%, Validação: 62.80%\n",
            "Epoch 20: Treinamento: 72.18%, Validação: 64.56%\n",
            "Epoch 21: Treinamento: 72.72%, Validação: 65.14%\n",
            "Epoch 22: Treinamento: 73.37%, Validação: 62.55%\n",
            "Epoch 23: Treinamento: 74.12%, Validação: 61.27%\n",
            "Epoch 24: Treinamento: 74.92%, Validação: 65.10%\n",
            "Epoch 25: Treinamento: 75.60%, Validação: 64.89%\n"
          ]
        }
      ],
      "source": [
        "# Exibir todas as acurácias por epoch\n",
        "for epoch, (train_acc, val_acc) in enumerate(zip(history.history['accuracy'], history.history['val_accuracy']), 1):\n",
        "    print(f\"Epoch {epoch}: Treinamento: {train_acc * 100:.2f}%, Validação: {val_acc * 100:.2f}%\")"
      ]
    },
    {
      "cell_type": "markdown",
      "id": "98946c26",
      "metadata": {
        "id": "98946c26"
      },
      "source": [
        "## Visualizando os Métricos no TensorBoard\n",
        "Para iniciar o TensorBoard, execute o seguinte comando no terminal:\n",
        "\n",
        "```bash\n",
        "tensorboard --logdir=logs/fit\n",
        "```\n",
        "\n",
        "Depois, acesse o endereço fornecido pelo TensorBoard no navegador para visualizar os gráficos e métricas."
      ]
    },
    {
      "cell_type": "code",
      "execution_count": null,
      "id": "0e3c03de",
      "metadata": {
        "id": "0e3c03de"
      },
      "outputs": [],
      "source": [
        "%tensorboard --logdir logs/fit"
      ]
    },
    {
      "cell_type": "code",
      "execution_count": 2,
      "id": "t2GlKx0YG_0g",
      "metadata": {
        "id": "t2GlKx0YG_0g"
      },
      "outputs": [
        {
          "data": {
            "text/html": [
              "\n",
              "      <iframe id=\"tensorboard-frame-93a3de334a1902b1\" width=\"100%\" height=\"800\" frameborder=\"0\">\n",
              "      </iframe>\n",
              "      <script>\n",
              "        (function() {\n",
              "          const frame = document.getElementById(\"tensorboard-frame-93a3de334a1902b1\");\n",
              "          const url = new URL(\"/\", window.location);\n",
              "          const port = 6006;\n",
              "          if (port) {\n",
              "            url.port = port;\n",
              "          }\n",
              "          frame.src = url;\n",
              "        })();\n",
              "      </script>\n",
              "    "
            ],
            "text/plain": [
              "<IPython.core.display.HTML object>"
            ]
          },
          "metadata": {},
          "output_type": "display_data"
        }
      ],
      "source": [
        "%tensorboard --logdir=logs/fit --port=6006"
      ]
    },
    {
      "cell_type": "markdown",
      "id": "skDUTPBKHu1Z",
      "metadata": {
        "id": "skDUTPBKHu1Z"
      },
      "source": [
        "# Salvar os arquivos local"
      ]
    },
    {
      "cell_type": "markdown",
      "id": "d1rX7bq6IS7u",
      "metadata": {
        "id": "d1rX7bq6IS7u"
      },
      "source": [
        "/Logs"
      ]
    },
    {
      "cell_type": "code",
      "execution_count": null,
      "id": "86Q9D1arJVr7",
      "metadata": {
        "id": "86Q9D1arJVr7"
      },
      "outputs": [],
      "source": [
        "!zip -r /content/logs.zip /content/logs\n",
        "from google.colab import files\n",
        "files.download(\"/content/logs.zip\")"
      ]
    },
    {
      "cell_type": "markdown",
      "id": "F-wZ84rRIUgA",
      "metadata": {
        "id": "F-wZ84rRIUgA"
      },
      "source": [
        "/model"
      ]
    },
    {
      "cell_type": "code",
      "execution_count": null,
      "id": "xpIyikoeKXo1",
      "metadata": {
        "colab": {
          "base_uri": "https://localhost:8080/",
          "height": 34
        },
        "id": "xpIyikoeKXo1",
        "outputId": "42c8d46e-2e00-4a26-b6a0-273370303e6f"
      },
      "outputs": [
        {
          "name": "stdout",
          "output_type": "stream",
          "text": [
            "  adding: content/mobilenetv2_emotion_finetuned_07-05.keras (deflated 10%)\n"
          ]
        },
        {
          "data": {
            "application/javascript": "\n    async function download(id, filename, size) {\n      if (!google.colab.kernel.accessAllowed) {\n        return;\n      }\n      const div = document.createElement('div');\n      const label = document.createElement('label');\n      label.textContent = `Downloading \"${filename}\": `;\n      div.appendChild(label);\n      const progress = document.createElement('progress');\n      progress.max = size;\n      div.appendChild(progress);\n      document.body.appendChild(div);\n\n      const buffers = [];\n      let downloaded = 0;\n\n      const channel = await google.colab.kernel.comms.open(id);\n      // Send a message to notify the kernel that we're ready.\n      channel.send({})\n\n      for await (const message of channel.messages) {\n        // Send a message to notify the kernel that we're ready.\n        channel.send({})\n        if (message.buffers) {\n          for (const buffer of message.buffers) {\n            buffers.push(buffer);\n            downloaded += buffer.byteLength;\n            progress.value = downloaded;\n          }\n        }\n      }\n      const blob = new Blob(buffers, {type: 'application/binary'});\n      const a = document.createElement('a');\n      a.href = window.URL.createObjectURL(blob);\n      a.download = filename;\n      div.appendChild(a);\n      a.click();\n      div.remove();\n    }\n  ",
            "text/plain": [
              "<IPython.core.display.Javascript object>"
            ]
          },
          "metadata": {},
          "output_type": "display_data"
        },
        {
          "data": {
            "application/javascript": "download(\"download_3ca9baae-f476-4460-becf-883ff4289b14\", \"mobilenetv2_emotion_finetuned_07-05.keras.zip\", 22091087)",
            "text/plain": [
              "<IPython.core.display.Javascript object>"
            ]
          },
          "metadata": {},
          "output_type": "display_data"
        }
      ],
      "source": [
        "!zip -r /content/mobilenetv2_emotion_finetuned_v2.keras.zip /content/mobilenetv2_emotion_finetuned_v2.keras\n",
        "from google.colab import files\n",
        "files.download(\"/content/mobilenetv2_emotion_finetuned_v2.keras.zip\")"
      ]
    },
    {
      "cell_type": "code",
      "execution_count": null,
      "id": "496f786aLctp",
      "metadata": {
        "id": "496f786aLctp"
      },
      "outputs": [],
      "source": []
    }
  ],
  "metadata": {
    "accelerator": "GPU",
    "colab": {
      "gpuType": "T4",
      "provenance": []
    },
    "kernelspec": {
      "display_name": "tf-m1",
      "language": "python",
      "name": "python3"
    },
    "language_info": {
      "codemirror_mode": {
        "name": "ipython",
        "version": 3
      },
      "file_extension": ".py",
      "mimetype": "text/x-python",
      "name": "python",
      "nbconvert_exporter": "python",
      "pygments_lexer": "ipython3",
      "version": "3.12.10"
    }
  },
  "nbformat": 4,
  "nbformat_minor": 5
}
